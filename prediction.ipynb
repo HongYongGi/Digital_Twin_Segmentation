{
 "cells": [
  {
   "cell_type": "markdown",
   "metadata": {},
   "source": [
    "# Log\n",
    "\n",
    "\n",
    "* Code description\n",
    "\n",
    "    * "
   ]
  },
  {
   "cell_type": "code",
   "execution_count": null,
   "metadata": {},
   "outputs": [],
   "source": [
    "pip i"
   ]
  },
  {
   "cell_type": "code",
   "execution_count": 10,
   "metadata": {},
   "outputs": [],
   "source": [
    "\n",
    "import os, glob, shutil\n",
    "import numpy as np\n",
    "import pandas as pd\n",
    "import matplotlib.pyplot as plt\n",
    "import seaborn as sns\n",
    "from tqdm import tqdm\n",
    "import nibabel as nib\n",
    "import pydicom\n",
    "import time\n",
    "import SimpleITK as sitk\n",
    "import dicom2nifti\n",
    "import dicom2nifti.settings as settings\n",
    "settings.disable_validate_slice_increment()\n",
    "from utils import *\n",
    "import warnings \n",
    "warnings.filterwarnings('ignore')\n",
    "from IPython.display import clear_output\n",
    "\n",
    "os.environ['CUDA_VISIBLE_DEVICES'] = '0'    \n",
    "os.environ['nnUNet_preprocessed']  = './preprocessed'\n",
    "os.environ['nnUNet_raw']           = './raw/'\n",
    "os.environ['nnUNet_results']       = './weight/'"
   ]
  },
  {
   "cell_type": "code",
   "execution_count": 23,
   "metadata": {},
   "outputs": [],
   "source": [
    "def nnunet_predict(target_path, output_dir, task_number, task_id):\n",
    "    start_time =  time.time()\n",
    "    target_dir = os.path.dirname(target_path)\n",
    "    file_name  = os.path.basename(target_path)\n",
    "    input_tmp  = os.path.join(target_dir, 'tmp')\n",
    "    makedir(input_tmp)\n",
    "    shutil.copy(target_path, os.path.join(input_tmp, 'img_0000.nii.gz'))\n",
    "    output_tmp = os.path.join(target_dir, 'output_tmp')\n",
    "    makedir(output_tmp)\n",
    "    !nnUNetv2_predict -i {input_tmp} -o {output_tmp} -d {task_number} -c 3d_fullres -f 0    \n",
    "    clear_output()\n",
    "    print(f\"Elapsed time : {time.time() - start_time:.2f} sec\")\n",
    "    print(f\"Task ID : {task_id}\")\n",
    "    print(f\"Task Number : {task_number}\")    \n",
    "    shutil.copy(os.path.join(output_tmp, 'img.nii.gz'), os.path.join(output_dir, task_id+'_'+file_name[:-7]+'.nii.gz'))\n",
    "    shutil.rmtree(input_tmp)\n",
    "    shutil.rmtree(output_tmp)\n",
    "    \n",
    "def nnunet_predict_all(target_path, output_dir):\n",
    "    nnunet_predict(target_path, output_dir, 518, 'bone')\n",
    "    nnunet_predict(target_path, output_dir, 724, 'vessel')\n",
    "    nnunet_predict(target_path, output_dir, 726, 'digestive')\n",
    "    nnunet_predict(target_path, output_dir, 852, 'Resp')\n",
    "    nnunet_predict(target_path, output_dir, 712, 'Lesion')"
   ]
  },
  {
   "cell_type": "code",
   "execution_count": 24,
   "metadata": {},
   "outputs": [],
   "source": [
    "params  = {\n",
    "    \"bone\" : 518,\n",
    "    \"vessel\": 724,\n",
    "    \"digestive\": 726,\n",
    "    \"Resp\" : 852,\n",
    "    \"Lung_lesion\": 712\n",
    "}"
   ]
  },
  {
   "cell_type": "code",
   "execution_count": 25,
   "metadata": {},
   "outputs": [],
   "source": [
    "save_dir  = './'\n",
    "target_path  = './2.nii.gz'"
   ]
  },
  {
   "cell_type": "code",
   "execution_count": 26,
   "metadata": {},
   "outputs": [
    {
     "name": "stdout",
     "output_type": "stream",
     "text": [
      "Elapsed time : 118.92 sec\n",
      "Task ID : Lesion\n",
      "Task Number : 712\n"
     ]
    }
   ],
   "source": [
    "nnunet_predict_all(target_path, save_dir)   "
   ]
  },
  {
   "cell_type": "code",
   "execution_count": null,
   "metadata": {},
   "outputs": [],
   "source": []
  }
 ],
 "metadata": {
  "kernelspec": {
   "display_name": "base",
   "language": "python",
   "name": "python3"
  },
  "language_info": {
   "codemirror_mode": {
    "name": "ipython",
    "version": 3
   },
   "file_extension": ".py",
   "mimetype": "text/x-python",
   "name": "python",
   "nbconvert_exporter": "python",
   "pygments_lexer": "ipython3",
   "version": "3.9.18"
  }
 },
 "nbformat": 4,
 "nbformat_minor": 2
}
