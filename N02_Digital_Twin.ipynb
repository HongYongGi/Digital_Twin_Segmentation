{
 "cells": [
  {
   "cell_type": "markdown",
   "metadata": {},
   "source": [
    "# Log \n",
    "\n",
    "* Written by HongYongGi / email : yonggi@tesser.co.kr\n",
    "* Written date: 20240527\n",
    "\n",
    "---\n",
    "\n",
    "# Code description\n",
    "\n",
    "1. Bone System\n",
    "    * Skin\n",
    "    * Muscle\n",
    "    * Fat\n",
    "    * Abdominal Visceral Fat\n",
    "    * Bone\n",
    "    * Organ etc\n",
    "    * CNS\n",
    "\n",
    "\n",
    "\n",
    "2. Circulatory System\n",
    "    ```\n",
    "    \"background\": 0,\n",
    "    \"common_carotid_artery_right\": 1,\n",
    "    \"common_carotid_artery_left\": 2,\n",
    "    \"subclavian_artery_left\": 3,\n",
    "    \"subclavian_artery_right\": 4,\n",
    "    \"brachiocephalic_trunk\": 5,\n",
    "    \"brachiocephalic_vein_left\": 6,\n",
    "    \"brachiocephalic_vein_right\": 7,\n",
    "    \"aorta\": 8,\n",
    "    \"superior_vena_cava\": 9,\n",
    "    \"heart_atrium_left\": 10,\n",
    "    \"heart_atrium_right\": 11,\n",
    "    \"heart_ventricle_left\": 12,\n",
    "    \"heart_ventricle_right\": 13,\n",
    "    \"heart_myocardium\": 14,\n",
    "    \"iliac_artery_left\": 15,\n",
    "    \"iliac_artery_right\": 16,\n",
    "    \"iliac_vena_left\": 17,\n",
    "    \"iliac_vena_right\": 18,\n",
    "    \"portal_vein_and_splenic_vein\": 19,\n",
    "    \"pulmonary_vein\": 20,\n",
    "    \"atrial_appendage_left\": 21,\n",
    "    \"inferior_vena_cava\": 22\n",
    "    ```\n",
    "\n",
    "\n",
    "\n",
    "\n",
    "3. Respiratory System\n",
    "\n",
    "    ```\n",
    "    \"lung_lower_lobe_left\": 1,\n",
    "    \"lung_lower_lobe_right\": 2,\n",
    "    \"lung_middle_lobe_right\": 3,\n",
    "    \"lung_trachea_bronchia\": 4,\n",
    "    \"lung_upper_lobe_left\": 5,\n",
    "    \"lung_upper_lobe_right\": 6,\n",
    "    \"lung_vessels\": 7\n",
    "\n",
    "    ```\n",
    "\n",
    "\n",
    "4. Digestive System\n",
    "\n",
    "```\n",
    "\n",
    "\n",
    "\n",
    "```\n",
    "\n",
    "---\n"
   ]
  },
  {
   "cell_type": "markdown",
   "metadata": {},
   "source": [
    "---\n",
    "\n",
    "# Package Import"
   ]
  },
  {
   "cell_type": "code",
   "execution_count": 2,
   "metadata": {},
   "outputs": [],
   "source": [
    "import os, glob, shutil\n",
    "import numpy as np\n",
    "import pandas as pd\n",
    "import matplotlib.pyplot as plt\n",
    "import nibabel as nib\n",
    "from tqdm import tqdm"
   ]
  },
  {
   "cell_type": "markdown",
   "metadata": {},
   "source": [
    "---\n",
    "# Utils function"
   ]
  },
  {
   "cell_type": "code",
   "execution_count": null,
   "metadata": {},
   "outputs": [],
   "source": [
    "def load_nii(path):\n",
    "    nii    = nib.load(path)\n",
    "    header = nii.header\n",
    "    affine = nii.affine\n",
    "    img    = nii.get_fdata()\n",
    "    return img, header, affine\n",
    "\n",
    "def save_nii(img, header, affine, path):\n",
    "    nii = nib.Nifti1Image(img, affine, header)\n",
    "    nib.save(nii, path)\n",
    "    \n",
    "def makedir(path):\n",
    "    try:\n",
    "        os.makedirs(path)\n",
    "    except:\n",
    "        pass\n",
    "\n",
    "def nnunet_predict(target_path, output_dir, task_number,task_id):\n",
    "    start_time = time.time()\n",
    "    target_dir = os.path.dirname(target_path)\n",
    "    file_name  = os.path.basename(target_path)\n",
    "    input_tmp  = os.path.join(target_dir, 'input_tmp')\n",
    "    makedir(input_tmp)\n",
    "    shutil.copy(target_path, os.path.join(input_tmp, 'img_0000.nii.gz'))\n",
    "    output_tmp = os.path.join(target_dir, 'output_tmp')\n",
    "    makedir(output_tmp)\n",
    "    !nnUNetv2_predict -i {input_tmp} -o {output_tmp} -d {task_number} -c 3d_fullres -f 0    \n",
    "    clear_output()\n",
    "    print(f'Elapsed time: {time.time()-start_time:.2f} sec')\n",
    "    shutil.copy(os.path.join(output_tmp, 'img.nii.gz'), os.path.join(output_dir, task_id+'_'+file_name[:-12]+'.nii.gz'))\n",
    "    shutil.rmtree(input_tmp)\n",
    "    shutil.rmtree(output_tmp)\n",
    "    return os.path.join(output_dir, file_name)\n"
   ]
  },
  {
   "cell_type": "markdown",
   "metadata": {},
   "source": [
    "----\n",
    "# Variables & Paths"
   ]
  },
  {
   "cell_type": "code",
   "execution_count": null,
   "metadata": {},
   "outputs": [],
   "source": [
    "model_params = {\n",
    "    \n",
    "    \n",
    "}"
   ]
  },
  {
   "cell_type": "code",
   "execution_count": null,
   "metadata": {},
   "outputs": [],
   "source": []
  },
  {
   "cell_type": "code",
   "execution_count": null,
   "metadata": {},
   "outputs": [],
   "source": []
  }
 ],
 "metadata": {
  "kernelspec": {
   "display_name": "base",
   "language": "python",
   "name": "python3"
  },
  "language_info": {
   "codemirror_mode": {
    "name": "ipython",
    "version": 3
   },
   "file_extension": ".py",
   "mimetype": "text/x-python",
   "name": "python",
   "nbconvert_exporter": "python",
   "pygments_lexer": "ipython3",
   "version": "undefined.undefined.undefined"
  }
 },
 "nbformat": 4,
 "nbformat_minor": 2
}
