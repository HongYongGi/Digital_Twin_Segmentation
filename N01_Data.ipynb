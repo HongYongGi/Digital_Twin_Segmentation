{
 "cells": [
  {
   "cell_type": "markdown",
   "metadata": {},
   "source": [
    "# Log\n",
    "\n",
    "* Written by HongYongGi / email : yonggi@tesser.co.kr\n",
    "\n",
    "* Written date : 20240419\n",
    "\n",
    "---\n",
    "\n",
    "# Code description\n"
   ]
  },
  {
   "cell_type": "code",
   "execution_count": 1,
   "metadata": {},
   "outputs": [],
   "source": [
    "import os, glob, shutil\n",
    "import numpy as np\n",
    "import pandas as pd\n",
    "import matplotlib.pyplot as plt\n",
    "from matplotlib import cm\n",
    "from tqdm import tqdm\n",
    "from IPython.display import clear_output\n",
    "import time\n",
    "import warnings\n",
    "warnings.filterwarnings('ignore')\n"
   ]
  },
  {
   "cell_type": "markdown",
   "metadata": {},
   "source": [
    "    <!-- ----\n",
    "\n",
    "    # Lung\n",
    "    \"labels\": {\n",
    "        \"background\": 0,\n",
    "        \"lung_lower_lobe_left\": 1,\n",
    "        \"lung_lower_lobe_right\": 2,\n",
    "        \"lung_middle_lobe_right\": 3,\n",
    "        \"lung_trachea_bronchia\": 4,\n",
    "        \"lung_upper_lobe_left\": 5,\n",
    "        \"lung_upper_lobe_right\": 6,\n",
    "        \"lung_vessels\": 7\n",
    "    },\n",
    "\n",
    "    # Liver\n",
    "\n",
    "    \"labels\": {\n",
    "        \"background\": 0,\n",
    "        \"adrenal_gland_left\": 1,\n",
    "        \"adrenal_gland_right\": 2,\n",
    "        \"colon\": 3,\n",
    "        \"duodenum\": 4,\n",
    "        \"esophagus\": 5,\n",
    "        \"gallbladder\": 6,\n",
    "        \"liver\": 7,\n",
    "        \"pancreas\": 8,\n",
    "        \"small_bowel\": 9,\n",
    "        \"spleen\": 10,\n",
    "        \"stomach\": 11\n",
    "    },\n",
    "\n",
    "\n",
    "    # Bone\n",
    "\n",
    "    \"labels\": {\n",
    "        \"background\": 0,\n",
    "        \"bone\": 1\n",
    "    },\n",
    "\n",
    "\n",
    "    # Vessel\n",
    "\n",
    "    \"labels\": {\n",
    "        \"background\": 0,\n",
    "        \"aorta\": 1,\n",
    "        \"atrial_appendage_left\": 2,\n",
    "        \"brachiocephalic_trunk\": 3,\n",
    "        \"brachiocephalic_vein_left\": 4,\n",
    "        \"brachiocephalic_vein_right\": 5,\n",
    "        \"common_carotid_artery_left\": 6,\n",
    "        \"common_carotid_artery_right\": 7,\n",
    "        \"heart_atrium_left\": 8,\n",
    "        \"heart_atrium_right\": 9,\n",
    "        \"heart_myocardium\": 10,\n",
    "        \"heart_ventricle_left\": 11,\n",
    "        \"heart_ventricle_right\": 12,\n",
    "        \"iliac_artery_left\": 13,\n",
    "        \"iliac_artery_right\": 14,\n",
    "        \"iliac_vena_left\": 15,\n",
    "        \"iliac_vena_right\": 16,\n",
    "        \"inferior_vena_cava\": 17,\n",
    "        \"portal_vein_and_splenic_vein\": 18,\n",
    "        \"pulmonary_artery\": 19,\n",
    "        \"pulmonary_vein\": 20,\n",
    "        \"subclavian_artery_left\": 21,\n",
    "        \"subclavian_artery_right\": 22,\n",
    "        \"superior_vena_cava\": 23\n",
    "    },\n",
    "\n",
    "    # whole\n",
    "\n",
    "    \"labels\": {\n",
    "        \"background\": 0,\n",
    "        \"gt1\": 1, # 피부\n",
    "        \"gt2\": 2, # 뼈\n",
    "        \"gt3\": 3, # 근\n",
    "        \"gt4\": 4, # 내장 지방 \n",
    "        \"gt5\": 5, # 지방\n",
    "        \"gt6\": 6, # 삭제할 사항 \n",
    "        \"gt7\": 7 # 척수\n",
    "    }, -->"
   ]
  },
  {
   "cell_type": "code",
   "execution_count": null,
   "metadata": {},
   "outputs": [],
   "source": [
    "work_dir  = './'"
   ]
  },
  {
   "cell_type": "code",
   "execution_count": null,
   "metadata": {},
   "outputs": [],
   "source": []
  },
  {
   "cell_type": "code",
   "execution_count": null,
   "metadata": {},
   "outputs": [],
   "source": []
  },
  {
   "cell_type": "code",
   "execution_count": null,
   "metadata": {},
   "outputs": [],
   "source": []
  },
  {
   "cell_type": "code",
   "execution_count": null,
   "metadata": {},
   "outputs": [],
   "source": []
  }
 ],
 "metadata": {
  "kernelspec": {
   "display_name": "base",
   "language": "python",
   "name": "python3"
  },
  "language_info": {
   "codemirror_mode": {
    "name": "ipython",
    "version": 3
   },
   "file_extension": ".py",
   "mimetype": "text/x-python",
   "name": "python",
   "nbconvert_exporter": "python",
   "pygments_lexer": "ipython3",
   "version": "3.10.9"
  }
 },
 "nbformat": 4,
 "nbformat_minor": 2
}
